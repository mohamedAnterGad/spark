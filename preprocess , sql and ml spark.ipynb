{
  "cells": [
    {
      "cell_type": "markdown",
      "id": "05f1e8db",
      "metadata": {
        "id": "05f1e8db"
      },
      "source": [
        "# **Labs 1 and 2 PySpark:**\n",
        "\n",
        "In these labs we will be using the \"[[NeurIPS 2020] Data Science for COVID-19 (DS4C)](https://www.kaggle.com/datasets/kimjihoo/coronavirusdataset?select=PatientInfo.csv)\" dataset, retrieved from [Kaggle](https://www.kaggle.com/) on 1/6/2022, for educational non commercial purpose, License\n",
        "[CC BY-NC-SA 4.0\n",
        "](https://creativecommons.org/licenses/by-nc-sa/4.0/)\n",
        "\n",
        "\n",
        "The csv file that we will be using in this lab is **PatientInfo**."
      ]
    },
    {
      "cell_type": "code",
      "source": [
        "from google.colab import drive\n",
        "drive.mount('/content/drive')"
      ],
      "metadata": {
        "colab": {
          "base_uri": "https://localhost:8080/"
        },
        "id": "V9CDC3Ty3YB5",
        "outputId": "4455dd5e-f2d9-4ccf-d439-f460b77adbec"
      },
      "id": "V9CDC3Ty3YB5",
      "execution_count": 127,
      "outputs": [
        {
          "output_type": "stream",
          "name": "stdout",
          "text": [
            "Drive already mounted at /content/drive; to attempt to forcibly remount, call drive.mount(\"/content/drive\", force_remount=True).\n"
          ]
        }
      ]
    },
    {
      "cell_type": "markdown",
      "id": "3ac9bbf0",
      "metadata": {
        "id": "3ac9bbf0"
      },
      "source": [
        "## PatientInfo.csv\n",
        "\n",
        "**patient_id**\n",
        "the ID of the patient\n",
        "\n",
        "**sex**\n",
        "the sex of the patient\n",
        "\n",
        "**age**\n",
        "the age of the patient\n",
        "\n",
        "**country**\n",
        "the country of the patient\n",
        "\n",
        "**province**\n",
        "the province of the patient\n",
        "\n",
        "**city**\n",
        "the city of the patient\n",
        "\n",
        "**infection_case**\n",
        "the case of infection\n",
        "\n",
        "**infected_by**\n",
        "the ID of who infected the patient\n",
        "\n",
        "\n",
        "**contact_number**\n",
        "the number of contacts with people\n",
        "\n",
        "**symptom_onset_date**\n",
        "the date of symptom onset\n",
        "\n",
        "**confirmed_date**\n",
        "the date of being confirmed\n",
        "\n",
        "**released_date**\n",
        "the date of being released\n",
        "\n",
        "**deceased_date**\n",
        "the date of being deceased\n",
        "\n",
        "**state**\n",
        "isolated / released / deceased"
      ]
    },
    {
      "cell_type": "markdown",
      "id": "34b6f619",
      "metadata": {
        "id": "34b6f619"
      },
      "source": [
        "### Import the pyspark and check it's version"
      ]
    },
    {
      "cell_type": "code",
      "source": [
        "!pip install pyspark"
      ],
      "metadata": {
        "colab": {
          "base_uri": "https://localhost:8080/"
        },
        "id": "ydxvWL6K927U",
        "outputId": "de212cec-cb26-45e9-c73e-825461a66a5e"
      },
      "id": "ydxvWL6K927U",
      "execution_count": 128,
      "outputs": [
        {
          "output_type": "stream",
          "name": "stdout",
          "text": [
            "Looking in indexes: https://pypi.org/simple, https://us-python.pkg.dev/colab-wheels/public/simple/\n",
            "Requirement already satisfied: pyspark in /usr/local/lib/python3.7/dist-packages (3.3.0)\n",
            "Requirement already satisfied: py4j==0.10.9.5 in /usr/local/lib/python3.7/dist-packages (from pyspark) (0.10.9.5)\n"
          ]
        }
      ]
    },
    {
      "cell_type": "code",
      "execution_count": 129,
      "id": "29fe2ddc",
      "metadata": {
        "id": "29fe2ddc",
        "colab": {
          "base_uri": "https://localhost:8080/",
          "height": 35
        },
        "outputId": "e73ccb13-31f4-429d-9b72-81cb708801e5"
      },
      "outputs": [
        {
          "output_type": "execute_result",
          "data": {
            "text/plain": [
              "'3.3.0'"
            ],
            "application/vnd.google.colaboratory.intrinsic+json": {
              "type": "string"
            }
          },
          "metadata": {},
          "execution_count": 129
        }
      ],
      "source": [
        "import pyspark\n",
        "pyspark.__version__"
      ]
    },
    {
      "cell_type": "markdown",
      "id": "70c0fc8e",
      "metadata": {
        "id": "70c0fc8e"
      },
      "source": [
        "### Import and create SparkSession"
      ]
    },
    {
      "cell_type": "code",
      "execution_count": 130,
      "id": "94904228",
      "metadata": {
        "id": "94904228"
      },
      "outputs": [],
      "source": [
        "from pyspark.sql import SparkSession\n",
        "spark_session = SparkSession.builder.appName('lab1').master('local[*]').getOrCreate()"
      ]
    },
    {
      "cell_type": "markdown",
      "id": "7356d68d",
      "metadata": {
        "id": "7356d68d"
      },
      "source": [
        "### Load the PatientInfo.csv file and show the first 5 rows"
      ]
    },
    {
      "cell_type": "code",
      "execution_count": 131,
      "id": "d5185728",
      "metadata": {
        "id": "d5185728",
        "colab": {
          "base_uri": "https://localhost:8080/",
          "height": 17
        },
        "outputId": "6c3e0f9d-42ec-40b8-95b8-8256c84d698b"
      },
      "outputs": [
        {
          "output_type": "display_data",
          "data": {
            "text/plain": [
              "<IPython.core.display.HTML object>"
            ],
            "text/html": [
              "<style>pre { white-space: pre !important; }</style>"
            ]
          },
          "metadata": {}
        }
      ],
      "source": [
        "from IPython.display import display, HTML\n",
        "display(HTML(\"<style>pre { white-space: pre !important; }</style>\"))"
      ]
    },
    {
      "cell_type": "code",
      "execution_count": 132,
      "id": "2196bca5",
      "metadata": {
        "id": "2196bca5",
        "colab": {
          "base_uri": "https://localhost:8080/"
        },
        "outputId": "9b604154-4da4-4e94-9026-6de283ce6fa2"
      },
      "outputs": [
        {
          "output_type": "stream",
          "name": "stdout",
          "text": [
            "+----------+------+---+-------+--------+------------+--------------------+-----------+--------------+-------------------+-------------------+-------------------+-------------+--------+\n",
            "|patient_id|   sex|age|country|province|        city|      infection_case|infected_by|contact_number| symptom_onset_date|     confirmed_date|      released_date|deceased_date|   state|\n",
            "+----------+------+---+-------+--------+------------+--------------------+-----------+--------------+-------------------+-------------------+-------------------+-------------+--------+\n",
            "|1000000001|  male|50s|  Korea|   Seoul|  Gangseo-gu|     overseas inflow|       null|            75|2020-01-22 00:00:00|2020-01-23 00:00:00|2020-02-05 00:00:00|         null|released|\n",
            "|1000000002|  male|30s|  Korea|   Seoul| Jungnang-gu|     overseas inflow|       null|            31|               null|2020-01-30 00:00:00|2020-03-02 00:00:00|         null|released|\n",
            "|1000000003|  male|50s|  Korea|   Seoul|   Jongno-gu|contact with patient| 2002000001|            17|               null|2020-01-30 00:00:00|2020-02-19 00:00:00|         null|released|\n",
            "|1000000004|  male|20s|  Korea|   Seoul|     Mapo-gu|     overseas inflow|       null|             9|2020-01-26 00:00:00|2020-01-30 00:00:00|2020-02-15 00:00:00|         null|released|\n",
            "|1000000005|female|20s|  Korea|   Seoul| Seongbuk-gu|contact with patient| 1000000002|             2|               null|2020-01-31 00:00:00|2020-02-24 00:00:00|         null|released|\n",
            "|1000000006|female|50s|  Korea|   Seoul|   Jongno-gu|contact with patient| 1000000003|            43|               null|2020-01-31 00:00:00|2020-02-19 00:00:00|         null|released|\n",
            "|1000000007|  male|20s|  Korea|   Seoul|   Jongno-gu|contact with patient| 1000000003|             0|               null|2020-01-31 00:00:00|2020-02-10 00:00:00|         null|released|\n",
            "|1000000008|  male|20s|  Korea|   Seoul|         etc|     overseas inflow|       null|             0|               null|2020-02-02 00:00:00|2020-02-24 00:00:00|         null|released|\n",
            "|1000000009|  male|30s|  Korea|   Seoul|   Songpa-gu|     overseas inflow|       null|            68|               null|2020-02-05 00:00:00|2020-02-21 00:00:00|         null|released|\n",
            "|1000000010|female|60s|  Korea|   Seoul| Seongbuk-gu|contact with patient| 1000000003|             6|               null|2020-02-05 00:00:00|2020-02-29 00:00:00|         null|released|\n",
            "|1000000011|female|50s|  China|   Seoul|Seodaemun-gu|     overseas inflow|       null|            23|               null|2020-02-06 00:00:00|2020-02-29 00:00:00|         null|released|\n",
            "|1000000012|  male|20s|  Korea|   Seoul|         etc|     overseas inflow|       null|             0|               null|2020-02-07 00:00:00|2020-02-27 00:00:00|         null|released|\n",
            "|1000000013|  male|80s|  Korea|   Seoul|   Jongno-gu|contact with patient| 1000000017|           117|               null|2020-02-16 00:00:00|               null|         null|deceased|\n",
            "|1000000014|female|60s|  Korea|   Seoul|   Jongno-gu|contact with patient| 1000000013|            27|2020-02-06 00:00:00|2020-02-16 00:00:00|2020-03-12 00:00:00|         null|released|\n",
            "|1000000015|  male|70s|  Korea|   Seoul|Seongdong-gu|    Seongdong-gu APT|       null|             8|2020-02-11 00:00:00|2020-02-19 00:00:00|               null|         null|released|\n",
            "|1000000016|  male|70s|  Korea|   Seoul|   Jongno-gu|contact with patient| 1000000017|          null|               null|2020-02-19 00:00:00|2020-03-11 00:00:00|         null|released|\n",
            "|1000000017|  male|70s|  Korea|   Seoul|   Jongno-gu|contact with patient| 1000000003|          null|               null|2020-02-20 00:00:00|2020-03-01 00:00:00|         null|released|\n",
            "|1000000018|  male|20s|  Korea|   Seoul|         etc|                 etc|       null|          null|               null|2020-02-20 00:00:00|               null|         null|released|\n",
            "|1000000019|female|70s|  Korea|   Seoul|   Jongno-gu|contact with patient| 1000000021|          null|               null|2020-02-20 00:00:00|2020-03-08 00:00:00|         null|released|\n",
            "|1000000020|female|70s|  Korea|   Seoul|Seongdong-gu|    Seongdong-gu APT| 1000000015|          null|               null|2020-02-20 00:00:00|               null|         null|released|\n",
            "+----------+------+---+-------+--------+------------+--------------------+-----------+--------------+-------------------+-------------------+-------------------+-------------+--------+\n",
            "only showing top 20 rows\n",
            "\n"
          ]
        }
      ],
      "source": [
        "df_raw = spark_session.read.csv('/content/PatientInfo.csv' , header = True , inferSchema=True , samplingRatio=0.1)\n",
        "df_raw.show()"
      ]
    },
    {
      "cell_type": "markdown",
      "id": "4d43bdca",
      "metadata": {
        "id": "4d43bdca"
      },
      "source": [
        "### Display the schema of the dataset"
      ]
    },
    {
      "cell_type": "code",
      "execution_count": 133,
      "id": "c51a2507",
      "metadata": {
        "id": "c51a2507",
        "colab": {
          "base_uri": "https://localhost:8080/"
        },
        "outputId": "77440543-6fd6-4d48-a217-dd37b7e267ae"
      },
      "outputs": [
        {
          "output_type": "stream",
          "name": "stdout",
          "text": [
            "root\n",
            " |-- patient_id: long (nullable = true)\n",
            " |-- sex: string (nullable = true)\n",
            " |-- age: string (nullable = true)\n",
            " |-- country: string (nullable = true)\n",
            " |-- province: string (nullable = true)\n",
            " |-- city: string (nullable = true)\n",
            " |-- infection_case: string (nullable = true)\n",
            " |-- infected_by: long (nullable = true)\n",
            " |-- contact_number: integer (nullable = true)\n",
            " |-- symptom_onset_date: timestamp (nullable = true)\n",
            " |-- confirmed_date: timestamp (nullable = true)\n",
            " |-- released_date: timestamp (nullable = true)\n",
            " |-- deceased_date: timestamp (nullable = true)\n",
            " |-- state: string (nullable = true)\n",
            "\n"
          ]
        }
      ],
      "source": [
        "df_raw.printSchema()"
      ]
    },
    {
      "cell_type": "markdown",
      "id": "3114e1dd",
      "metadata": {
        "id": "3114e1dd"
      },
      "source": [
        "### Display the statistical summary"
      ]
    },
    {
      "cell_type": "code",
      "execution_count": 134,
      "id": "18d63947",
      "metadata": {
        "id": "18d63947",
        "colab": {
          "base_uri": "https://localhost:8080/"
        },
        "outputId": "5bdb9bcb-f08f-42f6-e644-ef69751b654e"
      },
      "outputs": [
        {
          "output_type": "stream",
          "name": "stdout",
          "text": [
            "+-------+--------------------+------+----+----------+--------+--------------+--------------------+--------------------+-------------------+--------+\n",
            "|summary|          patient_id|   sex| age|   country|province|          city|      infection_case|         infected_by|     contact_number|   state|\n",
            "+-------+--------------------+------+----+----------+--------+--------------+--------------------+--------------------+-------------------+--------+\n",
            "|  count|                5165|  4043|3785|      5165|    5165|          5071|                4246|                1345|                785|    5165|\n",
            "|   mean|2.8636345618679576E9|  null|null|      null|    null|          null|                null|2.2845944015643125E9| 1273903.6675159235|    null|\n",
            "| stddev| 2.074210725277473E9|  null|null|      null|    null|          null|                null|1.5265072953383324E9|3.569155830456973E7|    null|\n",
            "|    min|          1000000001|female|  0s|Bangladesh|   Busan|     Andong-si|Anyang Gunpo Past...|               12702|                  0|deceased|\n",
            "|    25%|          1000001291|  null|null|      null|    null|          null|                null|          1400000102|                  2|    null|\n",
            "|    50%|          2000000369|  null|null|      null|    null|          null|                null|          2000000167|                  4|    null|\n",
            "|    75%|          6001000115|  null|null|      null|    null|          null|                null|          2000000975|                 14|    null|\n",
            "|    max|          7000000019|  male| 90s|   Vietnam|   Ulsan|sankyeock-dong|     overseas inflow|          7000000009|         1000000796|released|\n",
            "+-------+--------------------+------+----+----------+--------+--------------+--------------------+--------------------+-------------------+--------+\n",
            "\n"
          ]
        }
      ],
      "source": [
        "df_raw.summary().show()"
      ]
    },
    {
      "cell_type": "code",
      "source": [
        "## to know the total number of rows in the data\n",
        "df_raw.createOrReplaceTempView('my_table')\n",
        "spark_session.sql('select count(*) from my_table').show()"
      ],
      "metadata": {
        "colab": {
          "base_uri": "https://localhost:8080/"
        },
        "id": "exPBaMvIBgFk",
        "outputId": "ba8f0bd0-2e29-46ea-b4a8-a5a048aa6a95"
      },
      "id": "exPBaMvIBgFk",
      "execution_count": 135,
      "outputs": [
        {
          "output_type": "stream",
          "name": "stdout",
          "text": [
            "+--------+\n",
            "|count(1)|\n",
            "+--------+\n",
            "|    5165|\n",
            "+--------+\n",
            "\n"
          ]
        }
      ]
    },
    {
      "cell_type": "markdown",
      "id": "c78859b9",
      "metadata": {
        "id": "c78859b9"
      },
      "source": [
        "### Using the state column.\n",
        "### How many people survived (released), and how many didn't survive (isolated/deceased)?"
      ]
    },
    {
      "cell_type": "code",
      "execution_count": 138,
      "id": "63e84045",
      "metadata": {
        "id": "63e84045",
        "colab": {
          "base_uri": "https://localhost:8080/"
        },
        "outputId": "04094fd2-1170-4854-b56d-7307897edd07"
      },
      "outputs": [
        {
          "output_type": "stream",
          "name": "stdout",
          "text": [
            "survived people number is  2929\n",
            "not survived people number is  2236\n",
            "total number is  5165\n"
          ]
        }
      ],
      "source": [
        "# no nulls  in state column\n",
        "import pyspark.sql.functions as fn\n",
        "survived_people = df_raw.select('state').where('state = \"released\" ').count()\n",
        "not_survived = df_raw.select('state').where('state <> \"released\"').count()\n",
        "#not_survived = df_raw.select('state').where(col('state') != 'released').count()\n",
        "#df_raw.select('state').groupBy('state').agg(fn.count(col('state'))).show()\n",
        "\n",
        "print('survived people number is ',survived_people)\n",
        "print('not survived people number is ',not_survived)\n",
        "print('total number is ',not_survived + survived_people)"
      ]
    },
    {
      "cell_type": "markdown",
      "id": "59c16346",
      "metadata": {
        "id": "59c16346"
      },
      "source": [
        "### Display the number of null values in each column"
      ]
    },
    {
      "cell_type": "code",
      "execution_count": 139,
      "id": "4adc0ab6",
      "metadata": {
        "id": "4adc0ab6",
        "colab": {
          "base_uri": "https://localhost:8080/"
        },
        "outputId": "86e96763-0194-4e3e-a8c6-5b5d01ab5cc3"
      },
      "outputs": [
        {
          "output_type": "stream",
          "name": "stdout",
          "text": [
            "the number of nulls in the column patient_id is  0\n",
            "the number of nulls in the column sex is  1122\n",
            "the number of nulls in the column age is  1380\n",
            "the number of nulls in the column country is  0\n",
            "the number of nulls in the column province is  0\n",
            "the number of nulls in the column city is  94\n",
            "the number of nulls in the column infection_case is  919\n",
            "the number of nulls in the column infected_by is  3820\n",
            "the number of nulls in the column contact_number is  4380\n",
            "the number of nulls in the column symptom_onset_date is  4476\n",
            "the number of nulls in the column confirmed_date is  3\n",
            "the number of nulls in the column released_date is  3578\n",
            "the number of nulls in the column deceased_date is  5099\n",
            "the number of nulls in the column state is  0\n",
            "the confirmed date is the date he entered the quarantine \n",
            "   the released date is the date he exited the hospital \n",
            "   the deceased date is the date he died (if he died) \n",
            "   \n"
          ]
        }
      ],
      "source": [
        "from pyspark.sql.functions import col \n",
        "for column in df_raw.columns:\n",
        "  n_nulls = df_raw.select(column) \\\n",
        "                  .where(col(column).isNull()) \\\n",
        "                  .count()\n",
        "  #df_raw.select(column).where(col(column).isNull()).show()\n",
        "  print('the number of nulls in the column',column , 'is ',n_nulls)\n",
        "print('the confirmed date is the date he entered the quarantine \\n \\\n",
        "  the released date is the date he exited the hospital \\n \\\n",
        "  the deceased date is the date he died (if he died) \\n \\\n",
        "  ')"
      ]
    },
    {
      "cell_type": "markdown",
      "id": "c3133f5a",
      "metadata": {
        "id": "c3133f5a"
      },
      "source": [
        "## Data preprocessing"
      ]
    },
    {
      "cell_type": "markdown",
      "id": "ec32fa0c",
      "metadata": {
        "id": "ec32fa0c"
      },
      "source": [
        "### Fill the nulls in the deceased_date with the released_date. \n",
        "- You can use <b>coalesce</b> function"
      ]
    },
    {
      "cell_type": "code",
      "source": [
        "from pyspark.sql.functions import coalesce\n",
        "from pyspark.sql.types import TimestampType\n",
        "df_raw = df_raw.withColumn('final date' , coalesce(df_raw['deceased_date'] , df_raw['released_date']).cast(TimestampType()))\n",
        "df_raw.show()"
      ],
      "metadata": {
        "colab": {
          "base_uri": "https://localhost:8080/"
        },
        "id": "UVrgFhZ1YsG1",
        "outputId": "fa5d52e6-00ee-44bd-bdd3-5ba89879a9d2"
      },
      "id": "UVrgFhZ1YsG1",
      "execution_count": 140,
      "outputs": [
        {
          "output_type": "stream",
          "name": "stdout",
          "text": [
            "+----------+------+---+-------+--------+------------+--------------------+-----------+--------------+-------------------+-------------------+-------------------+-------------+--------+-------------------+\n",
            "|patient_id|   sex|age|country|province|        city|      infection_case|infected_by|contact_number| symptom_onset_date|     confirmed_date|      released_date|deceased_date|   state|         final date|\n",
            "+----------+------+---+-------+--------+------------+--------------------+-----------+--------------+-------------------+-------------------+-------------------+-------------+--------+-------------------+\n",
            "|1000000001|  male|50s|  Korea|   Seoul|  Gangseo-gu|     overseas inflow|       null|            75|2020-01-22 00:00:00|2020-01-23 00:00:00|2020-02-05 00:00:00|         null|released|2020-02-05 00:00:00|\n",
            "|1000000002|  male|30s|  Korea|   Seoul| Jungnang-gu|     overseas inflow|       null|            31|               null|2020-01-30 00:00:00|2020-03-02 00:00:00|         null|released|2020-03-02 00:00:00|\n",
            "|1000000003|  male|50s|  Korea|   Seoul|   Jongno-gu|contact with patient| 2002000001|            17|               null|2020-01-30 00:00:00|2020-02-19 00:00:00|         null|released|2020-02-19 00:00:00|\n",
            "|1000000004|  male|20s|  Korea|   Seoul|     Mapo-gu|     overseas inflow|       null|             9|2020-01-26 00:00:00|2020-01-30 00:00:00|2020-02-15 00:00:00|         null|released|2020-02-15 00:00:00|\n",
            "|1000000005|female|20s|  Korea|   Seoul| Seongbuk-gu|contact with patient| 1000000002|             2|               null|2020-01-31 00:00:00|2020-02-24 00:00:00|         null|released|2020-02-24 00:00:00|\n",
            "|1000000006|female|50s|  Korea|   Seoul|   Jongno-gu|contact with patient| 1000000003|            43|               null|2020-01-31 00:00:00|2020-02-19 00:00:00|         null|released|2020-02-19 00:00:00|\n",
            "|1000000007|  male|20s|  Korea|   Seoul|   Jongno-gu|contact with patient| 1000000003|             0|               null|2020-01-31 00:00:00|2020-02-10 00:00:00|         null|released|2020-02-10 00:00:00|\n",
            "|1000000008|  male|20s|  Korea|   Seoul|         etc|     overseas inflow|       null|             0|               null|2020-02-02 00:00:00|2020-02-24 00:00:00|         null|released|2020-02-24 00:00:00|\n",
            "|1000000009|  male|30s|  Korea|   Seoul|   Songpa-gu|     overseas inflow|       null|            68|               null|2020-02-05 00:00:00|2020-02-21 00:00:00|         null|released|2020-02-21 00:00:00|\n",
            "|1000000010|female|60s|  Korea|   Seoul| Seongbuk-gu|contact with patient| 1000000003|             6|               null|2020-02-05 00:00:00|2020-02-29 00:00:00|         null|released|2020-02-29 00:00:00|\n",
            "|1000000011|female|50s|  China|   Seoul|Seodaemun-gu|     overseas inflow|       null|            23|               null|2020-02-06 00:00:00|2020-02-29 00:00:00|         null|released|2020-02-29 00:00:00|\n",
            "|1000000012|  male|20s|  Korea|   Seoul|         etc|     overseas inflow|       null|             0|               null|2020-02-07 00:00:00|2020-02-27 00:00:00|         null|released|2020-02-27 00:00:00|\n",
            "|1000000013|  male|80s|  Korea|   Seoul|   Jongno-gu|contact with patient| 1000000017|           117|               null|2020-02-16 00:00:00|               null|         null|deceased|               null|\n",
            "|1000000014|female|60s|  Korea|   Seoul|   Jongno-gu|contact with patient| 1000000013|            27|2020-02-06 00:00:00|2020-02-16 00:00:00|2020-03-12 00:00:00|         null|released|2020-03-12 00:00:00|\n",
            "|1000000015|  male|70s|  Korea|   Seoul|Seongdong-gu|    Seongdong-gu APT|       null|             8|2020-02-11 00:00:00|2020-02-19 00:00:00|               null|         null|released|               null|\n",
            "|1000000016|  male|70s|  Korea|   Seoul|   Jongno-gu|contact with patient| 1000000017|          null|               null|2020-02-19 00:00:00|2020-03-11 00:00:00|         null|released|2020-03-11 00:00:00|\n",
            "|1000000017|  male|70s|  Korea|   Seoul|   Jongno-gu|contact with patient| 1000000003|          null|               null|2020-02-20 00:00:00|2020-03-01 00:00:00|         null|released|2020-03-01 00:00:00|\n",
            "|1000000018|  male|20s|  Korea|   Seoul|         etc|                 etc|       null|          null|               null|2020-02-20 00:00:00|               null|         null|released|               null|\n",
            "|1000000019|female|70s|  Korea|   Seoul|   Jongno-gu|contact with patient| 1000000021|          null|               null|2020-02-20 00:00:00|2020-03-08 00:00:00|         null|released|2020-03-08 00:00:00|\n",
            "|1000000020|female|70s|  Korea|   Seoul|Seongdong-gu|    Seongdong-gu APT| 1000000015|          null|               null|2020-02-20 00:00:00|               null|         null|released|               null|\n",
            "+----------+------+---+-------+--------+------------+--------------------+-----------+--------------+-------------------+-------------------+-------------------+-------------+--------+-------------------+\n",
            "only showing top 20 rows\n",
            "\n"
          ]
        }
      ]
    },
    {
      "cell_type": "code",
      "execution_count": 141,
      "id": "d5ba64f9",
      "metadata": {
        "id": "d5ba64f9",
        "colab": {
          "base_uri": "https://localhost:8080/"
        },
        "outputId": "21fbfd50-3c05-4413-db6d-9bc1424b68ef"
      },
      "outputs": [
        {
          "output_type": "execute_result",
          "data": {
            "text/plain": [
              "3514"
            ]
          },
          "metadata": {},
          "execution_count": 141
        }
      ],
      "source": [
        "df_raw.select('final date').where(col('final date').isNull()).count()\n",
        "#df_raw.select('final date').where(col('final date').isNull()).show()\n",
        "## the nulls may  be the person is still in the hospital (not released and not died)"
      ]
    },
    {
      "cell_type": "markdown",
      "id": "4ec324f5",
      "metadata": {
        "id": "4ec324f5"
      },
      "source": [
        "### Add a column named no_days which is difference between the deceased_date and the confirmed_date then show the top 5 rows. Print the schema.\n",
        "- <b> Hint: You need to typecast these columns as date first <b>"
      ]
    },
    {
      "cell_type": "code",
      "source": [
        "from pyspark.sql.functions import datediff,col\n",
        "df_raw = df_raw.withColumn('no_days' , datediff(end='final date' , start='confirmed_date' ))\n",
        "df_raw.show()"
      ],
      "metadata": {
        "colab": {
          "base_uri": "https://localhost:8080/"
        },
        "id": "z06a_93xkPsy",
        "outputId": "959fb51c-9c5a-49c1-bf07-37b057fa3908"
      },
      "id": "z06a_93xkPsy",
      "execution_count": 142,
      "outputs": [
        {
          "output_type": "stream",
          "name": "stdout",
          "text": [
            "+----------+------+---+-------+--------+------------+--------------------+-----------+--------------+-------------------+-------------------+-------------------+-------------+--------+-------------------+-------+\n",
            "|patient_id|   sex|age|country|province|        city|      infection_case|infected_by|contact_number| symptom_onset_date|     confirmed_date|      released_date|deceased_date|   state|         final date|no_days|\n",
            "+----------+------+---+-------+--------+------------+--------------------+-----------+--------------+-------------------+-------------------+-------------------+-------------+--------+-------------------+-------+\n",
            "|1000000001|  male|50s|  Korea|   Seoul|  Gangseo-gu|     overseas inflow|       null|            75|2020-01-22 00:00:00|2020-01-23 00:00:00|2020-02-05 00:00:00|         null|released|2020-02-05 00:00:00|     13|\n",
            "|1000000002|  male|30s|  Korea|   Seoul| Jungnang-gu|     overseas inflow|       null|            31|               null|2020-01-30 00:00:00|2020-03-02 00:00:00|         null|released|2020-03-02 00:00:00|     32|\n",
            "|1000000003|  male|50s|  Korea|   Seoul|   Jongno-gu|contact with patient| 2002000001|            17|               null|2020-01-30 00:00:00|2020-02-19 00:00:00|         null|released|2020-02-19 00:00:00|     20|\n",
            "|1000000004|  male|20s|  Korea|   Seoul|     Mapo-gu|     overseas inflow|       null|             9|2020-01-26 00:00:00|2020-01-30 00:00:00|2020-02-15 00:00:00|         null|released|2020-02-15 00:00:00|     16|\n",
            "|1000000005|female|20s|  Korea|   Seoul| Seongbuk-gu|contact with patient| 1000000002|             2|               null|2020-01-31 00:00:00|2020-02-24 00:00:00|         null|released|2020-02-24 00:00:00|     24|\n",
            "|1000000006|female|50s|  Korea|   Seoul|   Jongno-gu|contact with patient| 1000000003|            43|               null|2020-01-31 00:00:00|2020-02-19 00:00:00|         null|released|2020-02-19 00:00:00|     19|\n",
            "|1000000007|  male|20s|  Korea|   Seoul|   Jongno-gu|contact with patient| 1000000003|             0|               null|2020-01-31 00:00:00|2020-02-10 00:00:00|         null|released|2020-02-10 00:00:00|     10|\n",
            "|1000000008|  male|20s|  Korea|   Seoul|         etc|     overseas inflow|       null|             0|               null|2020-02-02 00:00:00|2020-02-24 00:00:00|         null|released|2020-02-24 00:00:00|     22|\n",
            "|1000000009|  male|30s|  Korea|   Seoul|   Songpa-gu|     overseas inflow|       null|            68|               null|2020-02-05 00:00:00|2020-02-21 00:00:00|         null|released|2020-02-21 00:00:00|     16|\n",
            "|1000000010|female|60s|  Korea|   Seoul| Seongbuk-gu|contact with patient| 1000000003|             6|               null|2020-02-05 00:00:00|2020-02-29 00:00:00|         null|released|2020-02-29 00:00:00|     24|\n",
            "|1000000011|female|50s|  China|   Seoul|Seodaemun-gu|     overseas inflow|       null|            23|               null|2020-02-06 00:00:00|2020-02-29 00:00:00|         null|released|2020-02-29 00:00:00|     23|\n",
            "|1000000012|  male|20s|  Korea|   Seoul|         etc|     overseas inflow|       null|             0|               null|2020-02-07 00:00:00|2020-02-27 00:00:00|         null|released|2020-02-27 00:00:00|     20|\n",
            "|1000000013|  male|80s|  Korea|   Seoul|   Jongno-gu|contact with patient| 1000000017|           117|               null|2020-02-16 00:00:00|               null|         null|deceased|               null|   null|\n",
            "|1000000014|female|60s|  Korea|   Seoul|   Jongno-gu|contact with patient| 1000000013|            27|2020-02-06 00:00:00|2020-02-16 00:00:00|2020-03-12 00:00:00|         null|released|2020-03-12 00:00:00|     25|\n",
            "|1000000015|  male|70s|  Korea|   Seoul|Seongdong-gu|    Seongdong-gu APT|       null|             8|2020-02-11 00:00:00|2020-02-19 00:00:00|               null|         null|released|               null|   null|\n",
            "|1000000016|  male|70s|  Korea|   Seoul|   Jongno-gu|contact with patient| 1000000017|          null|               null|2020-02-19 00:00:00|2020-03-11 00:00:00|         null|released|2020-03-11 00:00:00|     21|\n",
            "|1000000017|  male|70s|  Korea|   Seoul|   Jongno-gu|contact with patient| 1000000003|          null|               null|2020-02-20 00:00:00|2020-03-01 00:00:00|         null|released|2020-03-01 00:00:00|     10|\n",
            "|1000000018|  male|20s|  Korea|   Seoul|         etc|                 etc|       null|          null|               null|2020-02-20 00:00:00|               null|         null|released|               null|   null|\n",
            "|1000000019|female|70s|  Korea|   Seoul|   Jongno-gu|contact with patient| 1000000021|          null|               null|2020-02-20 00:00:00|2020-03-08 00:00:00|         null|released|2020-03-08 00:00:00|     17|\n",
            "|1000000020|female|70s|  Korea|   Seoul|Seongdong-gu|    Seongdong-gu APT| 1000000015|          null|               null|2020-02-20 00:00:00|               null|         null|released|               null|   null|\n",
            "+----------+------+---+-------+--------+------------+--------------------+-----------+--------------+-------------------+-------------------+-------------------+-------------+--------+-------------------+-------+\n",
            "only showing top 20 rows\n",
            "\n"
          ]
        }
      ]
    },
    {
      "cell_type": "markdown",
      "id": "967b2466",
      "metadata": {
        "id": "967b2466"
      },
      "source": [
        "### Add a is_male column if male then it should yield true, else then False"
      ]
    },
    {
      "cell_type": "code",
      "execution_count": 143,
      "id": "8efe03b5",
      "metadata": {
        "id": "8efe03b5",
        "colab": {
          "base_uri": "https://localhost:8080/"
        },
        "outputId": "bb8346df-94d5-4ccf-e02a-4c9d291c2a9c"
      },
      "outputs": [
        {
          "output_type": "stream",
          "name": "stdout",
          "text": [
            "+----------+------+---+-------+--------+------------+--------------------+-----------+--------------+-------------------+-------------------+-------------------+-------------+--------+-------------------+-------+-------+\n",
            "|patient_id|   sex|age|country|province|        city|      infection_case|infected_by|contact_number| symptom_onset_date|     confirmed_date|      released_date|deceased_date|   state|         final date|no_days|is_male|\n",
            "+----------+------+---+-------+--------+------------+--------------------+-----------+--------------+-------------------+-------------------+-------------------+-------------+--------+-------------------+-------+-------+\n",
            "|1000000001|  male|50s|  Korea|   Seoul|  Gangseo-gu|     overseas inflow|       null|            75|2020-01-22 00:00:00|2020-01-23 00:00:00|2020-02-05 00:00:00|         null|released|2020-02-05 00:00:00|     13|   true|\n",
            "|1000000002|  male|30s|  Korea|   Seoul| Jungnang-gu|     overseas inflow|       null|            31|               null|2020-01-30 00:00:00|2020-03-02 00:00:00|         null|released|2020-03-02 00:00:00|     32|   true|\n",
            "|1000000003|  male|50s|  Korea|   Seoul|   Jongno-gu|contact with patient| 2002000001|            17|               null|2020-01-30 00:00:00|2020-02-19 00:00:00|         null|released|2020-02-19 00:00:00|     20|   true|\n",
            "|1000000004|  male|20s|  Korea|   Seoul|     Mapo-gu|     overseas inflow|       null|             9|2020-01-26 00:00:00|2020-01-30 00:00:00|2020-02-15 00:00:00|         null|released|2020-02-15 00:00:00|     16|   true|\n",
            "|1000000005|female|20s|  Korea|   Seoul| Seongbuk-gu|contact with patient| 1000000002|             2|               null|2020-01-31 00:00:00|2020-02-24 00:00:00|         null|released|2020-02-24 00:00:00|     24|  false|\n",
            "|1000000006|female|50s|  Korea|   Seoul|   Jongno-gu|contact with patient| 1000000003|            43|               null|2020-01-31 00:00:00|2020-02-19 00:00:00|         null|released|2020-02-19 00:00:00|     19|  false|\n",
            "|1000000007|  male|20s|  Korea|   Seoul|   Jongno-gu|contact with patient| 1000000003|             0|               null|2020-01-31 00:00:00|2020-02-10 00:00:00|         null|released|2020-02-10 00:00:00|     10|   true|\n",
            "|1000000008|  male|20s|  Korea|   Seoul|         etc|     overseas inflow|       null|             0|               null|2020-02-02 00:00:00|2020-02-24 00:00:00|         null|released|2020-02-24 00:00:00|     22|   true|\n",
            "|1000000009|  male|30s|  Korea|   Seoul|   Songpa-gu|     overseas inflow|       null|            68|               null|2020-02-05 00:00:00|2020-02-21 00:00:00|         null|released|2020-02-21 00:00:00|     16|   true|\n",
            "|1000000010|female|60s|  Korea|   Seoul| Seongbuk-gu|contact with patient| 1000000003|             6|               null|2020-02-05 00:00:00|2020-02-29 00:00:00|         null|released|2020-02-29 00:00:00|     24|  false|\n",
            "|1000000011|female|50s|  China|   Seoul|Seodaemun-gu|     overseas inflow|       null|            23|               null|2020-02-06 00:00:00|2020-02-29 00:00:00|         null|released|2020-02-29 00:00:00|     23|  false|\n",
            "|1000000012|  male|20s|  Korea|   Seoul|         etc|     overseas inflow|       null|             0|               null|2020-02-07 00:00:00|2020-02-27 00:00:00|         null|released|2020-02-27 00:00:00|     20|   true|\n",
            "|1000000013|  male|80s|  Korea|   Seoul|   Jongno-gu|contact with patient| 1000000017|           117|               null|2020-02-16 00:00:00|               null|         null|deceased|               null|   null|   true|\n",
            "|1000000014|female|60s|  Korea|   Seoul|   Jongno-gu|contact with patient| 1000000013|            27|2020-02-06 00:00:00|2020-02-16 00:00:00|2020-03-12 00:00:00|         null|released|2020-03-12 00:00:00|     25|  false|\n",
            "|1000000015|  male|70s|  Korea|   Seoul|Seongdong-gu|    Seongdong-gu APT|       null|             8|2020-02-11 00:00:00|2020-02-19 00:00:00|               null|         null|released|               null|   null|   true|\n",
            "|1000000016|  male|70s|  Korea|   Seoul|   Jongno-gu|contact with patient| 1000000017|          null|               null|2020-02-19 00:00:00|2020-03-11 00:00:00|         null|released|2020-03-11 00:00:00|     21|   true|\n",
            "|1000000017|  male|70s|  Korea|   Seoul|   Jongno-gu|contact with patient| 1000000003|          null|               null|2020-02-20 00:00:00|2020-03-01 00:00:00|         null|released|2020-03-01 00:00:00|     10|   true|\n",
            "|1000000018|  male|20s|  Korea|   Seoul|         etc|                 etc|       null|          null|               null|2020-02-20 00:00:00|               null|         null|released|               null|   null|   true|\n",
            "|1000000019|female|70s|  Korea|   Seoul|   Jongno-gu|contact with patient| 1000000021|          null|               null|2020-02-20 00:00:00|2020-03-08 00:00:00|         null|released|2020-03-08 00:00:00|     17|  false|\n",
            "|1000000020|female|70s|  Korea|   Seoul|Seongdong-gu|    Seongdong-gu APT| 1000000015|          null|               null|2020-02-20 00:00:00|               null|         null|released|               null|   null|  false|\n",
            "+----------+------+---+-------+--------+------------+--------------------+-----------+--------------+-------------------+-------------------+-------------------+-------------+--------+-------------------+-------+-------+\n",
            "only showing top 20 rows\n",
            "\n"
          ]
        }
      ],
      "source": [
        "df_raw = df_raw.withColumn('is_male' , df_raw['sex'] == 'male')\n",
        "df_raw.show()"
      ]
    },
    {
      "cell_type": "markdown",
      "id": "8603d7c0",
      "metadata": {
        "id": "8603d7c0"
      },
      "source": [
        "### Add a is_dead column if patient state is not released then it should yield true, else then False\n",
        "\n",
        "- Use <b>UDF</b> to perform this task. \n",
        "- However, UDF is not recommended there is no built in function can do the required operation.\n",
        "- UDF is slower than built in functions."
      ]
    },
    {
      "cell_type": "code",
      "execution_count": 144,
      "id": "d3343075",
      "metadata": {
        "id": "d3343075",
        "colab": {
          "base_uri": "https://localhost:8080/"
        },
        "outputId": "f6994ee4-67e8-42f2-ddb8-12188696a582"
      },
      "outputs": [
        {
          "output_type": "stream",
          "name": "stdout",
          "text": [
            "+----------+------+---+-------+--------+------------+--------------------+-----------+--------------+-------------------+-------------------+-------------------+-------------+--------+-------------------+-------+-------+-------+\n",
            "|patient_id|   sex|age|country|province|        city|      infection_case|infected_by|contact_number| symptom_onset_date|     confirmed_date|      released_date|deceased_date|   state|         final date|no_days|is_male|is_dead|\n",
            "+----------+------+---+-------+--------+------------+--------------------+-----------+--------------+-------------------+-------------------+-------------------+-------------+--------+-------------------+-------+-------+-------+\n",
            "|1000000001|  male|50s|  Korea|   Seoul|  Gangseo-gu|     overseas inflow|       null|            75|2020-01-22 00:00:00|2020-01-23 00:00:00|2020-02-05 00:00:00|         null|released|2020-02-05 00:00:00|     13|   true|  false|\n",
            "|1000000002|  male|30s|  Korea|   Seoul| Jungnang-gu|     overseas inflow|       null|            31|               null|2020-01-30 00:00:00|2020-03-02 00:00:00|         null|released|2020-03-02 00:00:00|     32|   true|  false|\n",
            "|1000000003|  male|50s|  Korea|   Seoul|   Jongno-gu|contact with patient| 2002000001|            17|               null|2020-01-30 00:00:00|2020-02-19 00:00:00|         null|released|2020-02-19 00:00:00|     20|   true|  false|\n",
            "|1000000004|  male|20s|  Korea|   Seoul|     Mapo-gu|     overseas inflow|       null|             9|2020-01-26 00:00:00|2020-01-30 00:00:00|2020-02-15 00:00:00|         null|released|2020-02-15 00:00:00|     16|   true|  false|\n",
            "|1000000005|female|20s|  Korea|   Seoul| Seongbuk-gu|contact with patient| 1000000002|             2|               null|2020-01-31 00:00:00|2020-02-24 00:00:00|         null|released|2020-02-24 00:00:00|     24|  false|  false|\n",
            "|1000000006|female|50s|  Korea|   Seoul|   Jongno-gu|contact with patient| 1000000003|            43|               null|2020-01-31 00:00:00|2020-02-19 00:00:00|         null|released|2020-02-19 00:00:00|     19|  false|  false|\n",
            "|1000000007|  male|20s|  Korea|   Seoul|   Jongno-gu|contact with patient| 1000000003|             0|               null|2020-01-31 00:00:00|2020-02-10 00:00:00|         null|released|2020-02-10 00:00:00|     10|   true|  false|\n",
            "|1000000008|  male|20s|  Korea|   Seoul|         etc|     overseas inflow|       null|             0|               null|2020-02-02 00:00:00|2020-02-24 00:00:00|         null|released|2020-02-24 00:00:00|     22|   true|  false|\n",
            "|1000000009|  male|30s|  Korea|   Seoul|   Songpa-gu|     overseas inflow|       null|            68|               null|2020-02-05 00:00:00|2020-02-21 00:00:00|         null|released|2020-02-21 00:00:00|     16|   true|  false|\n",
            "|1000000010|female|60s|  Korea|   Seoul| Seongbuk-gu|contact with patient| 1000000003|             6|               null|2020-02-05 00:00:00|2020-02-29 00:00:00|         null|released|2020-02-29 00:00:00|     24|  false|  false|\n",
            "|1000000011|female|50s|  China|   Seoul|Seodaemun-gu|     overseas inflow|       null|            23|               null|2020-02-06 00:00:00|2020-02-29 00:00:00|         null|released|2020-02-29 00:00:00|     23|  false|  false|\n",
            "|1000000012|  male|20s|  Korea|   Seoul|         etc|     overseas inflow|       null|             0|               null|2020-02-07 00:00:00|2020-02-27 00:00:00|         null|released|2020-02-27 00:00:00|     20|   true|  false|\n",
            "|1000000013|  male|80s|  Korea|   Seoul|   Jongno-gu|contact with patient| 1000000017|           117|               null|2020-02-16 00:00:00|               null|         null|deceased|               null|   null|   true|   true|\n",
            "|1000000014|female|60s|  Korea|   Seoul|   Jongno-gu|contact with patient| 1000000013|            27|2020-02-06 00:00:00|2020-02-16 00:00:00|2020-03-12 00:00:00|         null|released|2020-03-12 00:00:00|     25|  false|  false|\n",
            "|1000000015|  male|70s|  Korea|   Seoul|Seongdong-gu|    Seongdong-gu APT|       null|             8|2020-02-11 00:00:00|2020-02-19 00:00:00|               null|         null|released|               null|   null|   true|  false|\n",
            "|1000000016|  male|70s|  Korea|   Seoul|   Jongno-gu|contact with patient| 1000000017|          null|               null|2020-02-19 00:00:00|2020-03-11 00:00:00|         null|released|2020-03-11 00:00:00|     21|   true|  false|\n",
            "|1000000017|  male|70s|  Korea|   Seoul|   Jongno-gu|contact with patient| 1000000003|          null|               null|2020-02-20 00:00:00|2020-03-01 00:00:00|         null|released|2020-03-01 00:00:00|     10|   true|  false|\n",
            "|1000000018|  male|20s|  Korea|   Seoul|         etc|                 etc|       null|          null|               null|2020-02-20 00:00:00|               null|         null|released|               null|   null|   true|  false|\n",
            "|1000000019|female|70s|  Korea|   Seoul|   Jongno-gu|contact with patient| 1000000021|          null|               null|2020-02-20 00:00:00|2020-03-08 00:00:00|         null|released|2020-03-08 00:00:00|     17|  false|  false|\n",
            "|1000000020|female|70s|  Korea|   Seoul|Seongdong-gu|    Seongdong-gu APT| 1000000015|          null|               null|2020-02-20 00:00:00|               null|         null|released|               null|   null|  false|  false|\n",
            "+----------+------+---+-------+--------+------------+--------------------+-----------+--------------+-------------------+-------------------+-------------------+-------------+--------+-------------------+-------+-------+-------+\n",
            "only showing top 20 rows\n",
            "\n"
          ]
        }
      ],
      "source": [
        "from pyspark.sql.functions import udf\n",
        "def add_is_dead(x):\n",
        "  if x == 'released':\n",
        "    return False\n",
        "  else:\n",
        "    return True\n",
        "is_dead_udf = udf(add_is_dead)\n",
        "#df_raw.select(is_dead_udf(df_raw['state'])).show()\n",
        "df_raw = df_raw.withColumn('is_dead' , is_dead_udf(df_raw['state']))\n",
        "df_raw.show()"
      ]
    },
    {
      "cell_type": "markdown",
      "id": "e15264a9",
      "metadata": {
        "id": "e15264a9"
      },
      "source": [
        "### Change the ages to bins from 10s, 0s, 10s, 20s,.etc to 0,10, 20"
      ]
    },
    {
      "cell_type": "code",
      "execution_count": 145,
      "id": "7a2b57ed",
      "metadata": {
        "id": "7a2b57ed",
        "colab": {
          "base_uri": "https://localhost:8080/"
        },
        "outputId": "138555b9-89d3-48fb-db9f-e573160ca9a6"
      },
      "outputs": [
        {
          "output_type": "stream",
          "name": "stdout",
          "text": [
            "+----------+------+---+-------+--------+------------+--------------------+-----------+--------------+-------------------+-------------------+-------------------+-------------+--------+-------------------+-------+-------+-------+\n",
            "|patient_id|   sex|age|country|province|        city|      infection_case|infected_by|contact_number| symptom_onset_date|     confirmed_date|      released_date|deceased_date|   state|         final date|no_days|is_male|is_dead|\n",
            "+----------+------+---+-------+--------+------------+--------------------+-----------+--------------+-------------------+-------------------+-------------------+-------------+--------+-------------------+-------+-------+-------+\n",
            "|1000000001|  male| 50|  Korea|   Seoul|  Gangseo-gu|     overseas inflow|       null|            75|2020-01-22 00:00:00|2020-01-23 00:00:00|2020-02-05 00:00:00|         null|released|2020-02-05 00:00:00|     13|   true|  false|\n",
            "|1000000002|  male| 30|  Korea|   Seoul| Jungnang-gu|     overseas inflow|       null|            31|               null|2020-01-30 00:00:00|2020-03-02 00:00:00|         null|released|2020-03-02 00:00:00|     32|   true|  false|\n",
            "|1000000003|  male| 50|  Korea|   Seoul|   Jongno-gu|contact with patient| 2002000001|            17|               null|2020-01-30 00:00:00|2020-02-19 00:00:00|         null|released|2020-02-19 00:00:00|     20|   true|  false|\n",
            "|1000000004|  male| 20|  Korea|   Seoul|     Mapo-gu|     overseas inflow|       null|             9|2020-01-26 00:00:00|2020-01-30 00:00:00|2020-02-15 00:00:00|         null|released|2020-02-15 00:00:00|     16|   true|  false|\n",
            "|1000000005|female| 20|  Korea|   Seoul| Seongbuk-gu|contact with patient| 1000000002|             2|               null|2020-01-31 00:00:00|2020-02-24 00:00:00|         null|released|2020-02-24 00:00:00|     24|  false|  false|\n",
            "|1000000006|female| 50|  Korea|   Seoul|   Jongno-gu|contact with patient| 1000000003|            43|               null|2020-01-31 00:00:00|2020-02-19 00:00:00|         null|released|2020-02-19 00:00:00|     19|  false|  false|\n",
            "|1000000007|  male| 20|  Korea|   Seoul|   Jongno-gu|contact with patient| 1000000003|             0|               null|2020-01-31 00:00:00|2020-02-10 00:00:00|         null|released|2020-02-10 00:00:00|     10|   true|  false|\n",
            "|1000000008|  male| 20|  Korea|   Seoul|         etc|     overseas inflow|       null|             0|               null|2020-02-02 00:00:00|2020-02-24 00:00:00|         null|released|2020-02-24 00:00:00|     22|   true|  false|\n",
            "|1000000009|  male| 30|  Korea|   Seoul|   Songpa-gu|     overseas inflow|       null|            68|               null|2020-02-05 00:00:00|2020-02-21 00:00:00|         null|released|2020-02-21 00:00:00|     16|   true|  false|\n",
            "|1000000010|female| 60|  Korea|   Seoul| Seongbuk-gu|contact with patient| 1000000003|             6|               null|2020-02-05 00:00:00|2020-02-29 00:00:00|         null|released|2020-02-29 00:00:00|     24|  false|  false|\n",
            "|1000000011|female| 50|  China|   Seoul|Seodaemun-gu|     overseas inflow|       null|            23|               null|2020-02-06 00:00:00|2020-02-29 00:00:00|         null|released|2020-02-29 00:00:00|     23|  false|  false|\n",
            "|1000000012|  male| 20|  Korea|   Seoul|         etc|     overseas inflow|       null|             0|               null|2020-02-07 00:00:00|2020-02-27 00:00:00|         null|released|2020-02-27 00:00:00|     20|   true|  false|\n",
            "|1000000013|  male| 80|  Korea|   Seoul|   Jongno-gu|contact with patient| 1000000017|           117|               null|2020-02-16 00:00:00|               null|         null|deceased|               null|   null|   true|   true|\n",
            "|1000000014|female| 60|  Korea|   Seoul|   Jongno-gu|contact with patient| 1000000013|            27|2020-02-06 00:00:00|2020-02-16 00:00:00|2020-03-12 00:00:00|         null|released|2020-03-12 00:00:00|     25|  false|  false|\n",
            "|1000000015|  male| 70|  Korea|   Seoul|Seongdong-gu|    Seongdong-gu APT|       null|             8|2020-02-11 00:00:00|2020-02-19 00:00:00|               null|         null|released|               null|   null|   true|  false|\n",
            "|1000000016|  male| 70|  Korea|   Seoul|   Jongno-gu|contact with patient| 1000000017|          null|               null|2020-02-19 00:00:00|2020-03-11 00:00:00|         null|released|2020-03-11 00:00:00|     21|   true|  false|\n",
            "|1000000017|  male| 70|  Korea|   Seoul|   Jongno-gu|contact with patient| 1000000003|          null|               null|2020-02-20 00:00:00|2020-03-01 00:00:00|         null|released|2020-03-01 00:00:00|     10|   true|  false|\n",
            "|1000000018|  male| 20|  Korea|   Seoul|         etc|                 etc|       null|          null|               null|2020-02-20 00:00:00|               null|         null|released|               null|   null|   true|  false|\n",
            "|1000000019|female| 70|  Korea|   Seoul|   Jongno-gu|contact with patient| 1000000021|          null|               null|2020-02-20 00:00:00|2020-03-08 00:00:00|         null|released|2020-03-08 00:00:00|     17|  false|  false|\n",
            "|1000000020|female| 70|  Korea|   Seoul|Seongdong-gu|    Seongdong-gu APT| 1000000015|          null|               null|2020-02-20 00:00:00|               null|         null|released|               null|   null|  false|  false|\n",
            "+----------+------+---+-------+--------+------------+--------------------+-----------+--------------+-------------------+-------------------+-------------------+-------------+--------+-------------------+-------+-------+-------+\n",
            "only showing top 20 rows\n",
            "\n"
          ]
        }
      ],
      "source": [
        "from pyspark.sql.types import FloatType\n",
        "df_raw = df_raw.withColumn('age' , fn.translate('age','s','') )\n",
        "df_raw.show()"
      ]
    },
    {
      "cell_type": "markdown",
      "id": "43cdf846",
      "metadata": {
        "id": "43cdf846"
      },
      "source": [
        "### Change age, and no_days  to be typecasted as Double"
      ]
    },
    {
      "cell_type": "code",
      "execution_count": 146,
      "id": "dfea7fcb",
      "metadata": {
        "id": "dfea7fcb",
        "colab": {
          "base_uri": "https://localhost:8080/"
        },
        "outputId": "c8fc7311-5441-461a-8df2-5367cb648bc3"
      },
      "outputs": [
        {
          "output_type": "stream",
          "name": "stdout",
          "text": [
            "root\n",
            " |-- patient_id: long (nullable = true)\n",
            " |-- sex: string (nullable = true)\n",
            " |-- age: double (nullable = true)\n",
            " |-- country: string (nullable = true)\n",
            " |-- province: string (nullable = true)\n",
            " |-- city: string (nullable = true)\n",
            " |-- infection_case: string (nullable = true)\n",
            " |-- infected_by: long (nullable = true)\n",
            " |-- contact_number: integer (nullable = true)\n",
            " |-- symptom_onset_date: timestamp (nullable = true)\n",
            " |-- confirmed_date: timestamp (nullable = true)\n",
            " |-- released_date: timestamp (nullable = true)\n",
            " |-- deceased_date: timestamp (nullable = true)\n",
            " |-- state: string (nullable = true)\n",
            " |-- final date: timestamp (nullable = true)\n",
            " |-- no_days: double (nullable = true)\n",
            " |-- is_male: boolean (nullable = true)\n",
            " |-- is_dead: string (nullable = true)\n",
            "\n"
          ]
        }
      ],
      "source": [
        "from pyspark.sql.types import DoubleType\n",
        "df_raw = df_raw.withColumn('age',df_raw['age'].cast(DoubleType()) )\n",
        "df_raw = df_raw.withColumn('no_days', df_raw['no_days'].cast(DoubleType()))\n",
        "df_raw.printSchema()"
      ]
    },
    {
      "cell_type": "markdown",
      "id": "d31e3a87",
      "metadata": {
        "id": "d31e3a87"
      },
      "source": [
        "### Drop the columns\n",
        "[\"patient_id\",\"sex\",\"infected_by\",\"contact_number\",\"released_date\",\"state\",\n",
        "\"symptom_onset_date\",\"confirmed_date\",\"deceased_date\",\"country\",\"no_days\",\n",
        "\"city\",\"infection_case\"]"
      ]
    },
    {
      "cell_type": "code",
      "execution_count": 147,
      "id": "3ae0c428",
      "metadata": {
        "id": "3ae0c428",
        "colab": {
          "base_uri": "https://localhost:8080/"
        },
        "outputId": "e66e3fff-08f6-4e9a-de1f-91fbc3f79b6d"
      },
      "outputs": [
        {
          "output_type": "stream",
          "name": "stdout",
          "text": [
            "+----+--------+-------+-------+-------+\n",
            "| age|province|no_days|is_male|is_dead|\n",
            "+----+--------+-------+-------+-------+\n",
            "|50.0|   Seoul|   13.0|   true|  false|\n",
            "|30.0|   Seoul|   32.0|   true|  false|\n",
            "|50.0|   Seoul|   20.0|   true|  false|\n",
            "|20.0|   Seoul|   16.0|   true|  false|\n",
            "|20.0|   Seoul|   24.0|  false|  false|\n",
            "|50.0|   Seoul|   19.0|  false|  false|\n",
            "|20.0|   Seoul|   10.0|   true|  false|\n",
            "|20.0|   Seoul|   22.0|   true|  false|\n",
            "|30.0|   Seoul|   16.0|   true|  false|\n",
            "|60.0|   Seoul|   24.0|  false|  false|\n",
            "|50.0|   Seoul|   23.0|  false|  false|\n",
            "|20.0|   Seoul|   20.0|   true|  false|\n",
            "|80.0|   Seoul|   null|   true|   true|\n",
            "|60.0|   Seoul|   25.0|  false|  false|\n",
            "|70.0|   Seoul|   null|   true|  false|\n",
            "|70.0|   Seoul|   21.0|   true|  false|\n",
            "|70.0|   Seoul|   10.0|   true|  false|\n",
            "|20.0|   Seoul|   null|   true|  false|\n",
            "|70.0|   Seoul|   17.0|  false|  false|\n",
            "|70.0|   Seoul|   null|  false|  false|\n",
            "+----+--------+-------+-------+-------+\n",
            "only showing top 20 rows\n",
            "\n"
          ]
        }
      ],
      "source": [
        "df_raw = df_raw.drop(\"patient_id\",\"sex\",\"infected_by\",\"contact_number\",\"released_date\",\"state\", \"symptom_onset_date\",\"confirmed_date\",\"deceased_date\",\"country\",\"final date\", \"city\",\"infection_case\")\n",
        "df_raw.show()"
      ]
    },
    {
      "cell_type": "markdown",
      "id": "32df47a6",
      "metadata": {
        "id": "32df47a6"
      },
      "source": [
        "### Recount the number of nulls now"
      ]
    },
    {
      "cell_type": "code",
      "source": [
        "col = 'is_dead'\n",
        "df_raw.select(col).where( df_raw[col].isNull() | isnan(df_raw[col]) ).count()"
      ],
      "metadata": {
        "colab": {
          "base_uri": "https://localhost:8080/"
        },
        "id": "zpFSeCgZwciJ",
        "outputId": "3aaa57c5-9a1a-4ab6-a59a-056e6babc1e9"
      },
      "id": "zpFSeCgZwciJ",
      "execution_count": 148,
      "outputs": [
        {
          "output_type": "execute_result",
          "data": {
            "text/plain": [
              "0"
            ]
          },
          "metadata": {},
          "execution_count": 148
        }
      ]
    },
    {
      "cell_type": "code",
      "execution_count": 149,
      "id": "6d66eaa7",
      "metadata": {
        "id": "6d66eaa7",
        "colab": {
          "base_uri": "https://localhost:8080/"
        },
        "outputId": "fd4790ec-a6c7-40f7-d8c9-866fcede949d"
      },
      "outputs": [
        {
          "output_type": "stream",
          "name": "stdout",
          "text": [
            "[1380, 0, 3514, 1122, 0]\n"
          ]
        }
      ],
      "source": [
        "from pyspark.sql.functions import isnan\n",
        "nulls = [df_raw.select(col).where( df_raw[col].isNull()  ).count() for col in df_raw.columns]\n",
        "print(nulls)"
      ]
    },
    {
      "cell_type": "markdown",
      "id": "cc71f158",
      "metadata": {
        "id": "cc71f158"
      },
      "source": [
        "## Now do the same but using SQL select statement"
      ]
    },
    {
      "cell_type": "markdown",
      "id": "1d540282",
      "metadata": {
        "id": "1d540282"
      },
      "source": [
        "### From the original Patient DataFrame, Create a temporary view (table)."
      ]
    },
    {
      "cell_type": "code",
      "execution_count": null,
      "id": "cf56099f",
      "metadata": {
        "id": "cf56099f"
      },
      "outputs": [],
      "source": [
        ""
      ]
    },
    {
      "cell_type": "markdown",
      "id": "cb004277",
      "metadata": {
        "id": "cb004277"
      },
      "source": [
        "### Use SELECT statement to select all columns from the dataframe and show the output."
      ]
    },
    {
      "cell_type": "code",
      "execution_count": null,
      "id": "12ae8226",
      "metadata": {
        "scrolled": false,
        "id": "12ae8226"
      },
      "outputs": [],
      "source": [
        ""
      ]
    },
    {
      "cell_type": "markdown",
      "id": "e0da4318",
      "metadata": {
        "id": "e0da4318"
      },
      "source": [
        "### *Using SQL commands*, limit the output to only 5 rows "
      ]
    },
    {
      "cell_type": "code",
      "execution_count": null,
      "id": "97911bdd",
      "metadata": {
        "id": "97911bdd"
      },
      "outputs": [],
      "source": [
        ""
      ]
    },
    {
      "cell_type": "markdown",
      "id": "b70edf17",
      "metadata": {
        "id": "b70edf17"
      },
      "source": [
        "### Select the count of males and females in the dataset"
      ]
    },
    {
      "cell_type": "code",
      "execution_count": null,
      "id": "00e9fd65",
      "metadata": {
        "id": "00e9fd65"
      },
      "outputs": [],
      "source": [
        ""
      ]
    },
    {
      "cell_type": "markdown",
      "id": "73683674",
      "metadata": {
        "id": "73683674"
      },
      "source": [
        "### How many people did survive, and how many didn't?"
      ]
    },
    {
      "cell_type": "code",
      "execution_count": null,
      "id": "1e5a3908",
      "metadata": {
        "id": "1e5a3908"
      },
      "outputs": [],
      "source": [
        ""
      ]
    },
    {
      "cell_type": "markdown",
      "id": "d4424228",
      "metadata": {
        "id": "d4424228"
      },
      "source": [
        "### Now, let's perform some preprocessing using SQL:\n",
        "1. Convert *age* column to double after removing the 's' at the end -- *hint: check SUBSTRING method*\n",
        "2. Select only the following columns: `['sex', 'age', 'province', 'state']`\n",
        "3. Store the result of the query in a new dataframe"
      ]
    },
    {
      "cell_type": "code",
      "execution_count": null,
      "id": "16994e4d",
      "metadata": {
        "id": "16994e4d"
      },
      "outputs": [],
      "source": [
        ""
      ]
    },
    {
      "cell_type": "code",
      "execution_count": null,
      "id": "d3cf4f0f",
      "metadata": {
        "scrolled": true,
        "id": "d3cf4f0f"
      },
      "outputs": [],
      "source": [
        ""
      ]
    },
    {
      "cell_type": "code",
      "execution_count": null,
      "id": "791ec1b8",
      "metadata": {
        "id": "791ec1b8"
      },
      "outputs": [],
      "source": [
        ""
      ]
    },
    {
      "cell_type": "code",
      "execution_count": null,
      "id": "61c70bc8",
      "metadata": {
        "id": "61c70bc8"
      },
      "outputs": [],
      "source": [
        ""
      ]
    },
    {
      "cell_type": "markdown",
      "id": "d4a24c24",
      "metadata": {
        "id": "d4a24c24"
      },
      "source": [
        "## Machine Learning \n",
        "### Create a pipeline model to predict is_dead and evaluate the performance.\n",
        "- Use <b>StringIndexer</b> to transform <b>string</b> data type to indices.\n",
        "- Use <b>OneHotEncoder</b> to deal with categorical values.\n",
        "- Use <b>Imputer</b> to fill missing data with mean."
      ]
    },
    {
      "cell_type": "code",
      "source": [
        "df_raw.printSchema()"
      ],
      "metadata": {
        "colab": {
          "base_uri": "https://localhost:8080/"
        },
        "id": "NruQALSQ2XWF",
        "outputId": "77af2b44-82ce-4580-fb38-38c34c82714b"
      },
      "id": "NruQALSQ2XWF",
      "execution_count": 153,
      "outputs": [
        {
          "output_type": "stream",
          "name": "stdout",
          "text": [
            "root\n",
            " |-- age: double (nullable = true)\n",
            " |-- province: string (nullable = true)\n",
            " |-- no_days: double (nullable = true)\n",
            " |-- is_male: boolean (nullable = true)\n",
            " |-- is_dead: string (nullable = true)\n",
            "\n"
          ]
        }
      ]
    },
    {
      "cell_type": "code",
      "source": [
        "from pyspark.sql.functions import StringType\n",
        "df_raw  = df_raw.withColumn('is_male' , df_raw['is_male'].cast(StringType()) )\n",
        "df_raw.printSchema()"
      ],
      "metadata": {
        "colab": {
          "base_uri": "https://localhost:8080/"
        },
        "id": "EVOaM6KV430O",
        "outputId": "7e7dceb6-95be-4122-867c-6ce5845f9ce0"
      },
      "id": "EVOaM6KV430O",
      "execution_count": 166,
      "outputs": [
        {
          "output_type": "stream",
          "name": "stdout",
          "text": [
            "root\n",
            " |-- age: double (nullable = true)\n",
            " |-- province: string (nullable = true)\n",
            " |-- no_days: double (nullable = true)\n",
            " |-- is_male: string (nullable = true)\n",
            " |-- is_dead: string (nullable = true)\n",
            "\n"
          ]
        }
      ]
    },
    {
      "cell_type": "code",
      "execution_count": 183,
      "id": "7a71806f",
      "metadata": {
        "id": "7a71806f",
        "colab": {
          "base_uri": "https://localhost:8080/"
        },
        "outputId": "ce5adc99-ec01-459e-d5e5-bd89d7ba1dc5"
      },
      "outputs": [
        {
          "output_type": "stream",
          "name": "stdout",
          "text": [
            "numerical cols are  ['age', 'no_days']\n",
            "categorical cols are  ['province', 'is_male', 'is_dead']\n"
          ]
        }
      ],
      "source": [
        "from pyspark.ml.feature import VectorAssembler , StringIndexer , OneHotEncoder , Imputer\n",
        "numeric_cols = [f for (f,d) in df_raw.dtypes if ((d == 'double' ))]\n",
        "categorical_cols = [f for (f,d) in df_raw.dtypes if ((d=='string' or d=='boolean'))]\n",
        "print('numerical cols are ', numeric_cols)\n",
        "print('categorical cols are ', categorical_cols)\n",
        "index_output = [categorical_col + 'index' for categorical_col in categorical_cols]"
      ]
    },
    {
      "cell_type": "markdown",
      "source": [
        "# string indexer"
      ],
      "metadata": {
        "id": "OspRdQo__0mV"
      },
      "id": "OspRdQo__0mV"
    },
    {
      "cell_type": "code",
      "source": [
        "string_indexer = StringIndexer(inputCols=categorical_cols , outputCols=index_output , handleInvalid='skip')\n",
        "string_indexer_model = string_indexer.fit(df_raw[categorical_cols])\n",
        "df_indexed = string_indexer_model.transform(df_raw[categorical_cols])\n",
        "df_indexed.show()\n",
        "## you should include the columns of is_male_index , province_index in the input columns of the OHE"
      ],
      "metadata": {
        "colab": {
          "base_uri": "https://localhost:8080/"
        },
        "id": "Wf81_ArJ0UEJ",
        "outputId": "fcb38be7-3711-40bd-ac45-90845b1b9f53"
      },
      "id": "Wf81_ArJ0UEJ",
      "execution_count": 184,
      "outputs": [
        {
          "output_type": "stream",
          "name": "stdout",
          "text": [
            "+--------+-------+-------+-------------+------------+------------+\n",
            "|province|is_male|is_dead|provinceindex|is_maleindex|is_deadindex|\n",
            "+--------+-------+-------+-------------+------------+------------+\n",
            "|   Seoul|   true|  false|          0.0|         1.0|         0.0|\n",
            "|   Seoul|   true|  false|          0.0|         1.0|         0.0|\n",
            "|   Seoul|   true|  false|          0.0|         1.0|         0.0|\n",
            "|   Seoul|   true|  false|          0.0|         1.0|         0.0|\n",
            "|   Seoul|  false|  false|          0.0|         0.0|         0.0|\n",
            "|   Seoul|  false|  false|          0.0|         0.0|         0.0|\n",
            "|   Seoul|   true|  false|          0.0|         1.0|         0.0|\n",
            "|   Seoul|   true|  false|          0.0|         1.0|         0.0|\n",
            "|   Seoul|   true|  false|          0.0|         1.0|         0.0|\n",
            "|   Seoul|  false|  false|          0.0|         0.0|         0.0|\n",
            "|   Seoul|  false|  false|          0.0|         0.0|         0.0|\n",
            "|   Seoul|   true|  false|          0.0|         1.0|         0.0|\n",
            "|   Seoul|   true|   true|          0.0|         1.0|         1.0|\n",
            "|   Seoul|  false|  false|          0.0|         0.0|         0.0|\n",
            "|   Seoul|   true|  false|          0.0|         1.0|         0.0|\n",
            "|   Seoul|   true|  false|          0.0|         1.0|         0.0|\n",
            "|   Seoul|   true|  false|          0.0|         1.0|         0.0|\n",
            "|   Seoul|   true|  false|          0.0|         1.0|         0.0|\n",
            "|   Seoul|  false|  false|          0.0|         0.0|         0.0|\n",
            "|   Seoul|  false|  false|          0.0|         0.0|         0.0|\n",
            "+--------+-------+-------+-------------+------------+------------+\n",
            "only showing top 20 rows\n",
            "\n"
          ]
        }
      ]
    },
    {
      "cell_type": "markdown",
      "source": [
        "# OHE"
      ],
      "metadata": {
        "id": "w-eSqxc4_ym4"
      },
      "id": "w-eSqxc4_ym4"
    },
    {
      "cell_type": "code",
      "source": [
        "ohe_input = index_output\n",
        "ohe_input.remove('is_deadindex') # exclude the ouput (target variable)\n",
        "ohe_output = [ohe_in + '_ohe' for ohe_in in ohe_input] \n",
        "ohe = OneHotEncoder(inputCols=index_output, outputCols= ohe_output)\n",
        "ohe_model = ohe.fit(df_indexed)\n",
        "df_ohe = ohe_model.transform(df_indexed)\n",
        "df_ohe.show()"
      ],
      "metadata": {
        "colab": {
          "base_uri": "https://localhost:8080/"
        },
        "id": "5ndtyxji4yCQ",
        "outputId": "4eedc40b-79f0-47fd-a2a1-ac3145dd7856"
      },
      "id": "5ndtyxji4yCQ",
      "execution_count": 185,
      "outputs": [
        {
          "output_type": "stream",
          "name": "stdout",
          "text": [
            "+--------+-------+-------+-------------+------------+------------+-----------------+----------------+\n",
            "|province|is_male|is_dead|provinceindex|is_maleindex|is_deadindex|provinceindex_ohe|is_maleindex_ohe|\n",
            "+--------+-------+-------+-------------+------------+------------+-----------------+----------------+\n",
            "|   Seoul|   true|  false|          0.0|         1.0|         0.0|   (16,[0],[1.0])|       (1,[],[])|\n",
            "|   Seoul|   true|  false|          0.0|         1.0|         0.0|   (16,[0],[1.0])|       (1,[],[])|\n",
            "|   Seoul|   true|  false|          0.0|         1.0|         0.0|   (16,[0],[1.0])|       (1,[],[])|\n",
            "|   Seoul|   true|  false|          0.0|         1.0|         0.0|   (16,[0],[1.0])|       (1,[],[])|\n",
            "|   Seoul|  false|  false|          0.0|         0.0|         0.0|   (16,[0],[1.0])|   (1,[0],[1.0])|\n",
            "|   Seoul|  false|  false|          0.0|         0.0|         0.0|   (16,[0],[1.0])|   (1,[0],[1.0])|\n",
            "|   Seoul|   true|  false|          0.0|         1.0|         0.0|   (16,[0],[1.0])|       (1,[],[])|\n",
            "|   Seoul|   true|  false|          0.0|         1.0|         0.0|   (16,[0],[1.0])|       (1,[],[])|\n",
            "|   Seoul|   true|  false|          0.0|         1.0|         0.0|   (16,[0],[1.0])|       (1,[],[])|\n",
            "|   Seoul|  false|  false|          0.0|         0.0|         0.0|   (16,[0],[1.0])|   (1,[0],[1.0])|\n",
            "|   Seoul|  false|  false|          0.0|         0.0|         0.0|   (16,[0],[1.0])|   (1,[0],[1.0])|\n",
            "|   Seoul|   true|  false|          0.0|         1.0|         0.0|   (16,[0],[1.0])|       (1,[],[])|\n",
            "|   Seoul|   true|   true|          0.0|         1.0|         1.0|   (16,[0],[1.0])|       (1,[],[])|\n",
            "|   Seoul|  false|  false|          0.0|         0.0|         0.0|   (16,[0],[1.0])|   (1,[0],[1.0])|\n",
            "|   Seoul|   true|  false|          0.0|         1.0|         0.0|   (16,[0],[1.0])|       (1,[],[])|\n",
            "|   Seoul|   true|  false|          0.0|         1.0|         0.0|   (16,[0],[1.0])|       (1,[],[])|\n",
            "|   Seoul|   true|  false|          0.0|         1.0|         0.0|   (16,[0],[1.0])|       (1,[],[])|\n",
            "|   Seoul|   true|  false|          0.0|         1.0|         0.0|   (16,[0],[1.0])|       (1,[],[])|\n",
            "|   Seoul|  false|  false|          0.0|         0.0|         0.0|   (16,[0],[1.0])|   (1,[0],[1.0])|\n",
            "|   Seoul|  false|  false|          0.0|         0.0|         0.0|   (16,[0],[1.0])|   (1,[0],[1.0])|\n",
            "+--------+-------+-------+-------------+------------+------------+-----------------+----------------+\n",
            "only showing top 20 rows\n",
            "\n"
          ]
        }
      ]
    },
    {
      "cell_type": "markdown",
      "source": [
        "# vector assembler"
      ],
      "metadata": {
        "id": "FyUUBeIh_3SN"
      },
      "id": "FyUUBeIh_3SN"
    },
    {
      "cell_type": "code",
      "source": [
        "vector_assembler = VectorAssembler(inputCols = ohe_output , outputCol='features' ) # we made handle invalid in the string indexer so no need to make  it here again\n",
        "df_vector_out = vector_assembler.transform(df_ohe)\n",
        "df_vector_out.show()\n"
      ],
      "metadata": {
        "colab": {
          "base_uri": "https://localhost:8080/"
        },
        "id": "F39-q9UH-biU",
        "outputId": "d034c92d-5ddd-4845-d9e3-98db19d95dca"
      },
      "id": "F39-q9UH-biU",
      "execution_count": 188,
      "outputs": [
        {
          "output_type": "stream",
          "name": "stdout",
          "text": [
            "+--------+-------+-------+-------------+------------+------------+-----------------+----------------+--------------------+\n",
            "|province|is_male|is_dead|provinceindex|is_maleindex|is_deadindex|provinceindex_ohe|is_maleindex_ohe|            features|\n",
            "+--------+-------+-------+-------------+------------+------------+-----------------+----------------+--------------------+\n",
            "|   Seoul|   true|  false|          0.0|         1.0|         0.0|   (16,[0],[1.0])|       (1,[],[])|      (17,[0],[1.0])|\n",
            "|   Seoul|   true|  false|          0.0|         1.0|         0.0|   (16,[0],[1.0])|       (1,[],[])|      (17,[0],[1.0])|\n",
            "|   Seoul|   true|  false|          0.0|         1.0|         0.0|   (16,[0],[1.0])|       (1,[],[])|      (17,[0],[1.0])|\n",
            "|   Seoul|   true|  false|          0.0|         1.0|         0.0|   (16,[0],[1.0])|       (1,[],[])|      (17,[0],[1.0])|\n",
            "|   Seoul|  false|  false|          0.0|         0.0|         0.0|   (16,[0],[1.0])|   (1,[0],[1.0])|(17,[0,16],[1.0,1...|\n",
            "|   Seoul|  false|  false|          0.0|         0.0|         0.0|   (16,[0],[1.0])|   (1,[0],[1.0])|(17,[0,16],[1.0,1...|\n",
            "|   Seoul|   true|  false|          0.0|         1.0|         0.0|   (16,[0],[1.0])|       (1,[],[])|      (17,[0],[1.0])|\n",
            "|   Seoul|   true|  false|          0.0|         1.0|         0.0|   (16,[0],[1.0])|       (1,[],[])|      (17,[0],[1.0])|\n",
            "|   Seoul|   true|  false|          0.0|         1.0|         0.0|   (16,[0],[1.0])|       (1,[],[])|      (17,[0],[1.0])|\n",
            "|   Seoul|  false|  false|          0.0|         0.0|         0.0|   (16,[0],[1.0])|   (1,[0],[1.0])|(17,[0,16],[1.0,1...|\n",
            "|   Seoul|  false|  false|          0.0|         0.0|         0.0|   (16,[0],[1.0])|   (1,[0],[1.0])|(17,[0,16],[1.0,1...|\n",
            "|   Seoul|   true|  false|          0.0|         1.0|         0.0|   (16,[0],[1.0])|       (1,[],[])|      (17,[0],[1.0])|\n",
            "|   Seoul|   true|   true|          0.0|         1.0|         1.0|   (16,[0],[1.0])|       (1,[],[])|      (17,[0],[1.0])|\n",
            "|   Seoul|  false|  false|          0.0|         0.0|         0.0|   (16,[0],[1.0])|   (1,[0],[1.0])|(17,[0,16],[1.0,1...|\n",
            "|   Seoul|   true|  false|          0.0|         1.0|         0.0|   (16,[0],[1.0])|       (1,[],[])|      (17,[0],[1.0])|\n",
            "|   Seoul|   true|  false|          0.0|         1.0|         0.0|   (16,[0],[1.0])|       (1,[],[])|      (17,[0],[1.0])|\n",
            "|   Seoul|   true|  false|          0.0|         1.0|         0.0|   (16,[0],[1.0])|       (1,[],[])|      (17,[0],[1.0])|\n",
            "|   Seoul|   true|  false|          0.0|         1.0|         0.0|   (16,[0],[1.0])|       (1,[],[])|      (17,[0],[1.0])|\n",
            "|   Seoul|  false|  false|          0.0|         0.0|         0.0|   (16,[0],[1.0])|   (1,[0],[1.0])|(17,[0,16],[1.0,1...|\n",
            "|   Seoul|  false|  false|          0.0|         0.0|         0.0|   (16,[0],[1.0])|   (1,[0],[1.0])|(17,[0,16],[1.0,1...|\n",
            "+--------+-------+-------+-------------+------------+------------+-----------------+----------------+--------------------+\n",
            "only showing top 20 rows\n",
            "\n"
          ]
        }
      ]
    },
    {
      "cell_type": "code",
      "source": [
        "df_vector_out.select('features')"
      ],
      "metadata": {
        "colab": {
          "base_uri": "https://localhost:8080/"
        },
        "id": "nAgQUyR0CRDs",
        "outputId": "ebde961a-1583-4796-d555-00d7584144ff"
      },
      "id": "nAgQUyR0CRDs",
      "execution_count": 190,
      "outputs": [
        {
          "output_type": "execute_result",
          "data": {
            "text/plain": [
              "DataFrame[features: vector]"
            ]
          },
          "metadata": {},
          "execution_count": 190
        }
      ]
    },
    {
      "cell_type": "code",
      "source": [
        ""
      ],
      "metadata": {
        "id": "bcYXkD0QDfmN"
      },
      "id": "bcYXkD0QDfmN",
      "execution_count": null,
      "outputs": []
    }
  ],
  "metadata": {
    "kernelspec": {
      "display_name": "Python 3 (ipykernel)",
      "language": "python",
      "name": "python3"
    },
    "language_info": {
      "codemirror_mode": {
        "name": "ipython",
        "version": 3
      },
      "file_extension": ".py",
      "mimetype": "text/x-python",
      "name": "python",
      "nbconvert_exporter": "python",
      "pygments_lexer": "ipython3",
      "version": "3.9.12"
    },
    "colab": {
      "name": "Copy of Mohamed Antar - Practical_Day_1_DF_SQL_ML_Student.ipynb",
      "provenance": [],
      "collapsed_sections": []
    },
    "accelerator": "GPU",
    "gpuClass": "standard"
  },
  "nbformat": 4,
  "nbformat_minor": 5
}